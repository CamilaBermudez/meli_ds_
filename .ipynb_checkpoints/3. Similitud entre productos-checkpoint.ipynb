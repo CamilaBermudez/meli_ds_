{
 "cells": [
  {
   "cell_type": "code",
   "execution_count": 26,
   "id": "2eebae3a",
   "metadata": {},
   "outputs": [],
   "source": [
    "import pandas as pd\n",
    "import jellyfish"
   ]
  },
  {
   "cell_type": "code",
   "execution_count": 27,
   "id": "5ec660fc",
   "metadata": {},
   "outputs": [],
   "source": [
    "df = pd.read_csv(\"items_titles.csv\")"
   ]
  },
  {
   "cell_type": "code",
   "execution_count": 28,
   "id": "f4e3417f",
   "metadata": {},
   "outputs": [
    {
     "data": {
      "text/html": [
       "<div>\n",
       "<style scoped>\n",
       "    .dataframe tbody tr th:only-of-type {\n",
       "        vertical-align: middle;\n",
       "    }\n",
       "\n",
       "    .dataframe tbody tr th {\n",
       "        vertical-align: top;\n",
       "    }\n",
       "\n",
       "    .dataframe thead th {\n",
       "        text-align: right;\n",
       "    }\n",
       "</style>\n",
       "<table border=\"1\" class=\"dataframe\">\n",
       "  <thead>\n",
       "    <tr style=\"text-align: right;\">\n",
       "      <th></th>\n",
       "      <th>ITE_ITEM_TITLE</th>\n",
       "    </tr>\n",
       "  </thead>\n",
       "  <tbody>\n",
       "    <tr>\n",
       "      <th>0</th>\n",
       "      <td>Tênis Ascension Posh Masculino - Preto E Verme...</td>\n",
       "    </tr>\n",
       "    <tr>\n",
       "      <th>1</th>\n",
       "      <td>Tenis Para Caminhada Super Levinho Spider Corr...</td>\n",
       "    </tr>\n",
       "    <tr>\n",
       "      <th>2</th>\n",
       "      <td>Tênis Feminino Le Parc Hocks Black/ice Origina...</td>\n",
       "    </tr>\n",
       "    <tr>\n",
       "      <th>3</th>\n",
       "      <td>Tênis Olympikus Esportivo Academia Nova Tendên...</td>\n",
       "    </tr>\n",
       "    <tr>\n",
       "      <th>4</th>\n",
       "      <td>Inteligente Led Bicicleta Tauda Luz Usb Bicicl...</td>\n",
       "    </tr>\n",
       "  </tbody>\n",
       "</table>\n",
       "</div>"
      ],
      "text/plain": [
       "                                      ITE_ITEM_TITLE\n",
       "0  Tênis Ascension Posh Masculino - Preto E Verme...\n",
       "1  Tenis Para Caminhada Super Levinho Spider Corr...\n",
       "2  Tênis Feminino Le Parc Hocks Black/ice Origina...\n",
       "3  Tênis Olympikus Esportivo Academia Nova Tendên...\n",
       "4  Inteligente Led Bicicleta Tauda Luz Usb Bicicl..."
      ]
     },
     "execution_count": 28,
     "metadata": {},
     "output_type": "execute_result"
    }
   ],
   "source": [
    "df.head()"
   ]
  },
  {
   "cell_type": "code",
   "execution_count": 29,
   "id": "c6ed9c77",
   "metadata": {},
   "outputs": [
    {
     "data": {
      "text/plain": [
       "(30000, 1)"
      ]
     },
     "execution_count": 29,
     "metadata": {},
     "output_type": "execute_result"
    }
   ],
   "source": [
    "df.shape"
   ]
  },
  {
   "cell_type": "code",
   "execution_count": 30,
   "id": "fd3e489c",
   "metadata": {},
   "outputs": [],
   "source": [
    "# Quito espacios y duplicados\n",
    "df = df.apply(lambda x: x.str.strip())\n",
    "df.drop_duplicates(inplace=True,ignore_index=True)"
   ]
  },
  {
   "cell_type": "code",
   "execution_count": 32,
   "id": "942ad797",
   "metadata": {},
   "outputs": [
    {
     "data": {
      "text/plain": [
       "(29972, 1)"
      ]
     },
     "execution_count": 32,
     "metadata": {},
     "output_type": "execute_result"
    }
   ],
   "source": [
    "df.shape"
   ]
  },
  {
   "cell_type": "code",
   "execution_count": 8,
   "id": "ff1a02e5",
   "metadata": {},
   "outputs": [],
   "source": [
    "# se hacen todas las diferentes combinaciones entre strings evitando las comparaciones con si mismo\n",
    "s_df = pd.DataFrame([(x,y) for x in df.ITE_ITEM_TITLE for y in df.ITE_ITEM_TITLE if x!=y])\n",
    "s_df.rename({0: 'ITE_ITEM_TITLE', 1: 'ITE_ITEM_TITLE_comp'}, axis=1, inplace=True)"
   ]
  },
  {
   "cell_type": "code",
   "execution_count": 10,
   "id": "2317fba6",
   "metadata": {},
   "outputs": [],
   "source": [
    "# Se le adiciona al dataframe anterior la medida de similaridad\n",
    "# Como medida de similaridad uso la distancia de Jaro–Winkler\n",
    "s_df['score'] = [jellyfish.jaro_winkler_similarity(x,y) for x in df.ITE_ITEM_TITLE for y in df.ITE_ITEM_TITLE if x!=y]"
   ]
  },
  {
   "cell_type": "code",
   "execution_count": 11,
   "id": "2275acb5",
   "metadata": {},
   "outputs": [],
   "source": [
    "s_df = s_df.sort_values(['ITE_ITEM_TITLE','score'],ascending = [True, False])\n",
    "s_df.reset_index(inplace=True,drop=True)"
   ]
  },
  {
   "cell_type": "code",
   "execution_count": 12,
   "id": "facf271c",
   "metadata": {},
   "outputs": [
    {
     "data": {
      "text/html": [
       "<div>\n",
       "<style scoped>\n",
       "    .dataframe tbody tr th:only-of-type {\n",
       "        vertical-align: middle;\n",
       "    }\n",
       "\n",
       "    .dataframe tbody tr th {\n",
       "        vertical-align: top;\n",
       "    }\n",
       "\n",
       "    .dataframe thead th {\n",
       "        text-align: right;\n",
       "    }\n",
       "</style>\n",
       "<table border=\"1\" class=\"dataframe\">\n",
       "  <thead>\n",
       "    <tr style=\"text-align: right;\">\n",
       "      <th></th>\n",
       "      <th>ITE_ITEM_TITLE</th>\n",
       "      <th>ITE_ITEM_TITLE_comp</th>\n",
       "      <th>score</th>\n",
       "    </tr>\n",
       "  </thead>\n",
       "  <tbody>\n",
       "    <tr>\n",
       "      <th>0</th>\n",
       "      <td>Bco Xr Bicicleta Motorizada Susp/fr Disco</td>\n",
       "      <td>Beach Sport  Bicicleta Motorizada Susp/fr.disco</td>\n",
       "      <td>0.787855</td>\n",
       "    </tr>\n",
       "    <tr>\n",
       "      <th>1</th>\n",
       "      <td>Bco Xr Bicicleta Motorizada Susp/fr Disco</td>\n",
       "      <td>Bicicleta Motorizada</td>\n",
       "      <td>0.721705</td>\n",
       "    </tr>\n",
       "    <tr>\n",
       "      <th>2</th>\n",
       "      <td>Bco Xr Bicicleta Motorizada Susp/fr Disco</td>\n",
       "      <td>Bicicleta Motorizada Cargo 80cc Fr Disco/susp ...</td>\n",
       "      <td>0.705951</td>\n",
       "    </tr>\n",
       "    <tr>\n",
       "      <th>3</th>\n",
       "      <td>Bco Xr Bicicleta Motorizada Susp/fr Disco</td>\n",
       "      <td>Bicicleta Motorizada 80 Cc Com Suspensão E Fre...</td>\n",
       "      <td>0.696203</td>\n",
       "    </tr>\n",
       "    <tr>\n",
       "      <th>4</th>\n",
       "      <td>Bco Xr Bicicleta Motorizada Susp/fr Disco</td>\n",
       "      <td>Bicicleta Aro 20 Ultra Bikes  Masculina Bicolor</td>\n",
       "      <td>0.690975</td>\n",
       "    </tr>\n",
       "  </tbody>\n",
       "</table>\n",
       "</div>"
      ],
      "text/plain": [
       "                                ITE_ITEM_TITLE  \\\n",
       "0   Bco Xr Bicicleta Motorizada Susp/fr Disco    \n",
       "1   Bco Xr Bicicleta Motorizada Susp/fr Disco    \n",
       "2   Bco Xr Bicicleta Motorizada Susp/fr Disco    \n",
       "3   Bco Xr Bicicleta Motorizada Susp/fr Disco    \n",
       "4   Bco Xr Bicicleta Motorizada Susp/fr Disco    \n",
       "\n",
       "                                 ITE_ITEM_TITLE_comp     score  \n",
       "0   Beach Sport  Bicicleta Motorizada Susp/fr.disco   0.787855  \n",
       "1                               Bicicleta Motorizada  0.721705  \n",
       "2  Bicicleta Motorizada Cargo 80cc Fr Disco/susp ...  0.705951  \n",
       "3  Bicicleta Motorizada 80 Cc Com Suspensão E Fre...  0.696203  \n",
       "4    Bicicleta Aro 20 Ultra Bikes  Masculina Bicolor  0.690975  "
      ]
     },
     "execution_count": 12,
     "metadata": {},
     "output_type": "execute_result"
    }
   ],
   "source": [
    "s_df.head()"
   ]
  },
  {
   "cell_type": "code",
   "execution_count": null,
   "id": "55d6869e",
   "metadata": {},
   "outputs": [],
   "source": []
  }
 ],
 "metadata": {
  "kernelspec": {
   "display_name": "Python 3 (ipykernel)",
   "language": "python",
   "name": "python3"
  },
  "language_info": {
   "codemirror_mode": {
    "name": "ipython",
    "version": 3
   },
   "file_extension": ".py",
   "mimetype": "text/x-python",
   "name": "python",
   "nbconvert_exporter": "python",
   "pygments_lexer": "ipython3",
   "version": "3.9.13"
  }
 },
 "nbformat": 4,
 "nbformat_minor": 5
}
